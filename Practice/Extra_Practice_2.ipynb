{
  "nbformat": 4,
  "nbformat_minor": 0,
  "metadata": {
    "colab": {
      "provenance": [],
      "include_colab_link": true
    },
    "kernelspec": {
      "name": "python3",
      "display_name": "Python 3"
    },
    "language_info": {
      "name": "python"
    }
  },
  "cells": [
    {
      "cell_type": "markdown",
      "metadata": {
        "id": "view-in-github",
        "colab_type": "text"
      },
      "source": [
        "<a href=\"https://colab.research.google.com/github/Maxrgrz/University/blob/main/Practice/Extra_Practice_2.ipynb\" target=\"_parent\"><img src=\"https://colab.research.google.com/assets/colab-badge.svg\" alt=\"Open In Colab\"/></a>"
      ]
    },
    {
      "cell_type": "code",
      "execution_count": 1,
      "metadata": {
        "colab": {
          "base_uri": "https://localhost:8080/"
        },
        "id": "FWlHPkYS_ctz",
        "outputId": "da1aeb89-6ce3-43f7-dee8-0aade6bfbbc3"
      },
      "outputs": [
        {
          "output_type": "stream",
          "name": "stdout",
          "text": [
            "Точность 73.5%\n"
          ]
        }
      ],
      "source": [
        "import random\n",
        "\n",
        "def generation_random_birthday(users_count: int = 0) -> list:\n",
        "    users_container = []\n",
        "    while len(users_container) != users_count:\n",
        "        users_container.append((random.randint(1, 28), random.randint(1, 12)))\n",
        "    return users_container\n",
        "\n",
        "def find_element(iteration: int = 1) -> int:\n",
        "    attempts = 0\n",
        "    result = 0\n",
        "    while attempts != iteration:\n",
        "        birthdays_people = generation_random_birthday(23)\n",
        "\n",
        "        result += (len(birthdays_people) - len(set(birthdays_people)))\n",
        "        attempts += 1\n",
        "\n",
        "    return result\n",
        "\n",
        "print(f'Точность {(find_element(1000) * 100) / 1000}%')\n"
      ]
    }
  ]
}