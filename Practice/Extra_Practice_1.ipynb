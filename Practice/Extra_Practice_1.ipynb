{
  "nbformat": 4,
  "nbformat_minor": 0,
  "metadata": {
    "colab": {
      "provenance": [],
      "include_colab_link": true
    },
    "kernelspec": {
      "name": "python3",
      "display_name": "Python 3"
    },
    "language_info": {
      "name": "python"
    }
  },
  "cells": [
    {
      "cell_type": "markdown",
      "metadata": {
        "id": "view-in-github",
        "colab_type": "text"
      },
      "source": [
        "<a href=\"https://colab.research.google.com/github/Maxrgrz/University/blob/main/Practice/Extra_Practice_1.ipynb\" target=\"_parent\"><img src=\"https://colab.research.google.com/assets/colab-badge.svg\" alt=\"Open In Colab\"/></a>"
      ]
    },
    {
      "cell_type": "code",
      "execution_count": 2,
      "metadata": {
        "colab": {
          "base_uri": "https://localhost:8080/"
        },
        "id": "63B-xNEooWdq",
        "outputId": "ce73e42e-cb46-452a-e764-46cde82bd3ac"
      },
      "outputs": [
        {
          "output_type": "stream",
          "name": "stdout",
          "text": [
            "Победы при отказе на смену: 1616\n",
            "Победы при согласии на смену: 1709\n",
            "Проигрыши при согласии на смену: 3411\n",
            "Проигрыши при отказе на смену: 3264\n",
            "Cуммарно побед: 3325\n",
            "Cуммарно проигрышей: 6675\n"
          ]
        }
      ],
      "source": [
        "import random\n",
        "def generate_random_doors() -> list:\n",
        "    array = [0, 0, 0]\n",
        "    array[random.randint(0, 2)] = 1\n",
        "    return array\n",
        "def apply_choice(iteration: int = 1) -> None:\n",
        "    attempts = 0\n",
        "    directive = {}\n",
        "    valid_choice = ['YES', 'NO']\n",
        "    while attempts != iteration:\n",
        "        doors_array = generate_random_doors()\n",
        "        door_index = random.randint(0, 2)\n",
        "        if doors_array[door_index] == 1:\n",
        "            if random.choice(valid_choice) == 'YES':\n",
        "                directive['DENIED-RECHOICE-VALUE-1'] = directive.get('DENIED-RECHOICE-VALUE-1', 0) + 1\n",
        "            else: directive['ACCEPT-RECHOICE-VALUE-0'] = directive.get('ACCEPT-RECHOICE-VALUE-0', 0) + 1\n",
        "        else:\n",
        "            if random.choice(valid_choice) == 'YES':\n",
        "                directive['DENIED-RECHOICE-VALUE-0'] = directive.get('DENIED-RECHOICE-VALUE-0', 0) + 1\n",
        "            else:\n",
        "                del doors_array[door_index]\n",
        "\n",
        "                if doors_array[random.randint(0, 1)] == 1:\n",
        "                    directive['ACCEPT-RECHOICE-VALUE-1'] = directive.get('ACCEPT-RECHOICE-VALUE-1', 0) + 1\n",
        "                else:\n",
        "                    directive['ACCEPT-RECHOICE-VALUE-0'] = directive.get('ACCEPT-RECHOICE-VALUE-0', 0) + 1\n",
        "        attempts += 1\n",
        "    output = [\n",
        "        f'Победы при отказе на смену: {directive[\"DENIED-RECHOICE-VALUE-1\"]}',\n",
        "        f'Победы при согласии на смену: {directive[\"ACCEPT-RECHOICE-VALUE-1\"]}',\n",
        "        f'Проигрыши при согласии на смену: {directive[\"ACCEPT-RECHOICE-VALUE-0\"]}',\n",
        "        f'Проигрыши при отказе на смену: {directive[\"DENIED-RECHOICE-VALUE-0\"]}',\n",
        "        f'Cуммарно побед: {directive[\"DENIED-RECHOICE-VALUE-1\"] + directive[\"ACCEPT-RECHOICE-VALUE-1\"]}',\n",
        "        f'Cуммарно проигрышей: {directive[\"ACCEPT-RECHOICE-VALUE-0\"] + directive[\"DENIED-RECHOICE-VALUE-0\"]}'\n",
        "    ]\n",
        "\n",
        "    print('\\n'.join(output))\n",
        "\n",
        "apply_choice(10000)\n"
      ]
    }
  ]
}