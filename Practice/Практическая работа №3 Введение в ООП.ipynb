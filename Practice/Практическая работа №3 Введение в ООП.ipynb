{
  "nbformat": 4,
  "nbformat_minor": 0,
  "metadata": {
    "colab": {
      "provenance": [],
      "include_colab_link": true
    },
    "kernelspec": {
      "name": "python3",
      "display_name": "Python 3"
    },
    "language_info": {
      "name": "python"
    }
  },
  "cells": [
    {
      "cell_type": "markdown",
      "metadata": {
        "id": "view-in-github",
        "colab_type": "text"
      },
      "source": [
        "<a href=\"https://colab.research.google.com/github/Maxrgrz/University/blob/main/Practice/%D0%9F%D1%80%D0%B0%D0%BA%D1%82%D0%B8%D1%87%D0%B5%D1%81%D0%BA%D0%B0%D1%8F%20%D1%80%D0%B0%D0%B1%D0%BE%D1%82%D0%B0%20%E2%84%963%20%D0%92%D0%B2%D0%B5%D0%B4%D0%B5%D0%BD%D0%B8%D0%B5%20%D0%B2%20%D0%9E%D0%9E%D0%9F.ipynb\" target=\"_parent\"><img src=\"https://colab.research.google.com/assets/colab-badge.svg\" alt=\"Open In Colab\"/></a>"
      ]
    },
    {
      "cell_type": "markdown",
      "source": [
        "# **Практическая работа №3. Введение в ООП**\n",
        "\n",
        "\n"
      ],
      "metadata": {
        "id": "s-EuQCpnWXCn"
      }
    },
    {
      "cell_type": "markdown",
      "source": [
        "## **Задание №1. Создайте класс Sphere для представления сферы в трехмерном пространстве**\n"
      ],
      "metadata": {
        "id": "TQ5SpdjdbD4D"
      }
    },
    {
      "cell_type": "markdown",
      "source": [
        "Обеспечьте следующие методы класса:\n",
        "\n",
        "1. Конструктор, принимающий 4 действительных числа: радиус, и 3 координаты центра шара. Если конструктор вызывается без аргументов, создать объект сферы с единичным радиусом и центром в начале координат. Если конструктор вызывается с аргументом, создать объект сферы с соответствующим радиусом и центром в начале координат.\n",
        "\n",
        "2. Метод get_volume (), который возвращает действительное число — объем шара, ограниченной текущей сферой.\n",
        "\n",
        "3. Метод get_square (), который возвращает действительное число — площадь внешней поверхности сферы.\n",
        "\n",
        "4. Метод get_radius (), который возвращает действительное число — радиус сферы.\n",
        "\n",
        "5. Метод get_center (), который возвращает тьюпл с 3 действительными числами — координатами центра сферы в том же порядке, в каком они задаются в конструкторе.\n",
        "\n",
        "6. Метод set_radius (r), который принимает 1 аргумент — действительное число, и меняет радиус текущей сферы, ничего не возвращая.\n",
        "\n",
        "7. Метод set_center (x, y, z), который принимает 3 аргумента — действительных числа, и меняет координаты центра сферы, ничего не возвращая. Координаты задаются в том же порядке, что и в конструкторе.\n",
        "\n",
        "8. Метод is_point_inside (x, y, z), который принимает 3 аргумента — действительных числа — координаты некоторой точки в пространстве (в том же порядке, что и в конструкторе), и возвращает логическое значение True или False в зависимости от того, находится эта точка внутри сферы."
      ],
      "metadata": {
        "id": "Q5Ow51wfASZH"
      }
    },
    {
      "cell_type": "code",
      "source": [
        "# Тесты\n",
        "\n",
        "s0 = Sphere(0.5) # test sphere creation with radius and default center\n",
        "print(s0.get_center()) # (0.0, 0.0, 0.0)\n",
        "print(s0.get_volume()) # 0.523598775598\n",
        "print(s0.is_point_inside(0 , -1.5, 0)) # False\n",
        "s0.set_radius(1.6)\n",
        "print(s0.is_point_inside(0, -1.5, 0)) # True\n",
        "print(s0.get_radius()) # 1.6"
      ],
      "metadata": {
        "id": "xYx3bR2Lbv42",
        "colab": {
          "base_uri": "https://localhost:8080/"
        },
        "outputId": "a2910d57-ef67-4b45-e6c2-4bd4320b71fe"
      },
      "execution_count": null,
      "outputs": [
        {
          "output_type": "stream",
          "name": "stdout",
          "text": [
            "(0.0, 0.0, 0.0)\n",
            "0.5233333333333333\n",
            "False\n",
            "True\n",
            "1.6\n"
          ]
        }
      ]
    },
    {
      "cell_type": "code",
      "source": [
        "class Sphere:\n",
        "\n",
        "    def __init__(self, radius = 1.0, posX = 0.0, posY = 0.0, posZ = 0.0):\n",
        "        self.radius = radius\n",
        "        self.posX = posX\n",
        "        self.posY = posY\n",
        "        self.posZ = posZ\n",
        "\n",
        "    def get_volume(self):\n",
        "        return 4/3 * 3.14 * self.radius ** 3\n",
        "\n",
        "    def get_square(self):\n",
        "        return 4 * 3.14 * self.radius ** 2\n",
        "\n",
        "    def get_radius(self):\n",
        "        return self.radius\n",
        "\n",
        "    def get_center(self):\n",
        "        return self.posX, self.posY, self.posZ\n",
        "\n",
        "    def set_radius(self, r):\n",
        "        self.radius = r\n",
        "\n",
        "    def set_center(self, x, y, z):\n",
        "        self.posX = x\n",
        "        self.posY = y\n",
        "        self.posZ = z\n",
        "\n",
        "    def is_point_inside(self, x, y ,z):\n",
        "        return (self.posX-x)**2 + (self.posY-y)**2 + (self.posZ-z)**2 < self.radius**2"
      ],
      "metadata": {
        "id": "d-vd-AYRdBId"
      },
      "execution_count": null,
      "outputs": []
    },
    {
      "cell_type": "markdown",
      "source": [
        "## **Задание №2. Создайте класс SuperStr, который наследует стандартный класс str и содержит 2 новых метода:**"
      ],
      "metadata": {
        "id": "UuJ9K_zAcaY_"
      }
    },
    {
      "cell_type": "markdown",
      "source": [
        "1. Метод is_repeatance (s), который принимает 1 аргумент s и возвращает True или False в зависимости от того, может ли текущая строку быть получена целым количеством повторов строки s. Вернуть False, если s не является строкой. Считать, что пустая строка не содержит повторов.\n",
        "\n",
        "2. Метод is_palindrom (), который возвращает True или False в зависимости от того, является ли строка [палиндромом](https://ru.wikipedia.org/wiki/Палиндром). Регистрами символов пренебрегать. Пустую строку считать палиндромом."
      ],
      "metadata": {
        "id": "GX99X81VchPW"
      }
    },
    {
      "cell_type": "code",
      "source": [
        "class SuperStr(str):\n",
        "    def __init__(self, re_str):\n",
        "        self.re_str = re_str\n",
        "\n",
        "    def is_repeatance(self, s):\n",
        "        for i in range(len(self.re_str)):\n",
        "            if s * i == self.re_str:\n",
        "                return True\n",
        "        return False\n",
        "\n",
        "    def is_palindrom(self):\n",
        "        if len(s) == 0: return False\n",
        "        return self.re_str[::-1] == self.re_str\n"
      ],
      "metadata": {
        "id": "LtIAKDWFdEcr"
      },
      "execution_count": null,
      "outputs": []
    },
    {
      "cell_type": "code",
      "source": [
        "# Тесты\n",
        "\n",
        "s = SuperStr(\"123123123123\")\n",
        "print(s.is_repeatance(\"123\")) # True\n",
        "print(s.is_repeatance(\"123123\")) # True\n",
        "print(s.is_repeatance(\"123123123123\")) # True\n",
        "print(s.is_repeatance(\"12312\")) # False\n",
        "print(s.is_repeatance(123)) # False\n",
        "print(s.is_palindrom()) # False\n",
        "print(s) # 123123123123 (строка)\n",
        "print(int(s)) # 123123123123 (целое число)\n",
        "print(s + \"qwe\") # 123123123123qwe\n",
        "p = SuperStr(\"123_321\")\n",
        "print(p.is_palindrom()) # True"
      ],
      "metadata": {
        "id": "oRO3alwicoNp",
        "colab": {
          "base_uri": "https://localhost:8080/"
        },
        "outputId": "3929f377-a512-4410-e7f0-57bd73fe5dda"
      },
      "execution_count": null,
      "outputs": [
        {
          "output_type": "stream",
          "name": "stdout",
          "text": [
            "True\n",
            "True\n",
            "True\n",
            "False\n",
            "False\n",
            "False\n",
            "123123123123\n",
            "123123123123\n",
            "123123123123qwe\n",
            "True\n"
          ]
        }
      ]
    },
    {
      "cell_type": "markdown",
      "source": [
        "## **Задание №3. В коде ниже представлен класс преподавателей и класс студентов (вы можете взять этот код за основу или написать свой).**"
      ],
      "metadata": {
        "id": "m9EGwLY9jZbw"
      }
    },
    {
      "cell_type": "code",
      "source": [
        "class Student:\n",
        "    def __init__(self, name, surname, gender):\n",
        "        self.name = name\n",
        "        self.surname = surname\n",
        "        self.gender = gender\n",
        "        self.finished_courses = []\n",
        "        self.courses_in_progress = []\n",
        "        self.grades = {}\n",
        "\n",
        "    def add_courses(self, course_name):\n",
        "        self.finished_courses.append(course_name)\n",
        "\n",
        "\n",
        "class Mentor:\n",
        "    def __init__(self, name, surname):\n",
        "        self.name = name\n",
        "        self.surname = surname\n",
        "        self.courses_attached = []\n",
        "\n",
        "    def rate_hw(self, student, course, grade):\n",
        "        student.grades[course] = [grade]"
      ],
      "metadata": {
        "id": "PlqK9m7KrT6e"
      },
      "execution_count": null,
      "outputs": []
    },
    {
      "cell_type": "code",
      "source": [
        "best_student = Student('Gaspar', 'Eman', 'your_gender')\n",
        "cool_mentor = Mentor('Marat', 'Buddy')\n",
        "cool_mentor.rate_hw(best_student, 'Python', 5)\n",
        "\n",
        "print(\"Имя студента: \", best_student.name)\n",
        "print(\"Имя преподавателя: \", cool_mentor.name)\n",
        "print(\"Оценки студента по курсам: \", best_student.grades)"
      ],
      "metadata": {
        "colab": {
          "base_uri": "https://localhost:8080/"
        },
        "id": "oNc1-dVaw3ee",
        "outputId": "38efbee8-fa8c-4fbd-edf5-d0ce5d62a7de"
      },
      "execution_count": null,
      "outputs": [
        {
          "output_type": "stream",
          "name": "stdout",
          "text": [
            "Имя студента:  Gaspar\n",
            "Имя преподавателя:  Marat\n",
            "Оценки студента по курсам:  {'Python': [5]}\n"
          ]
        }
      ]
    },
    {
      "cell_type": "markdown",
      "source": [
        "### **3.1. Наследование**"
      ],
      "metadata": {
        "id": "08FkYxULrxE-"
      }
    },
    {
      "cell_type": "markdown",
      "source": [
        "* Класс Mentor должен стать родительским классом для преподавателей. От него нужно реализовать наследование классов Lecturer (лекторы) и Reviewer (эксперты, проверяющие домашние задания).\n",
        "\n",
        "> Имя, фамилю и список закрепленных курсов логично реализовать на уровне родительского класса."
      ],
      "metadata": {
        "id": "YNjsCv5ItOii"
      }
    },
    {
      "cell_type": "code",
      "source": [
        "class Lecturer(Mentor):\n",
        "    pass\n",
        "\n",
        "class Reviewer(Mentor):\n",
        "    pass"
      ],
      "metadata": {
        "id": "1quZPRZKtIoc"
      },
      "execution_count": null,
      "outputs": []
    },
    {
      "cell_type": "markdown",
      "source": [
        "### **3.2. Атрибуты и взаимодействие классов**"
      ],
      "metadata": {
        "id": "oL8kB-uUtH5K"
      }
    },
    {
      "cell_type": "markdown",
      "source": [
        "* Реализуйте возможность проставления оценок студентам только Reviewer-ам (реализуйте такой метод).\n",
        "\n",
        "* Реализуйте метод выставления оценок лекторам у класса Student (оценки по 10-балльной шкале, хранятся в атрибуте-словаре у Lecturer, в котором ключи – названия курсов, а значения – списки оценок). Лектор при этом должен быть закреплен за тем курсом, на который записан студент (реализовать проверку)."
      ],
      "metadata": {
        "id": "ddcuJFCksWsY"
      }
    },
    {
      "cell_type": "code",
      "source": [
        "class Student:\n",
        "    def __init__(self, name, surname, gender):\n",
        "        self.name = name\n",
        "        self.surname = surname\n",
        "        self.gender = gender\n",
        "        self.courses = []\n",
        "        self.grades = {}\n",
        "\n",
        "    def add_courses(self, course_name):\n",
        "        self.courses.append(course_name)\n",
        "\n",
        "    def get_course(self):\n",
        "        return self.courses\n",
        "\n",
        "class Mentor:\n",
        "    def __init__(self, name, surname):\n",
        "        self.name = name\n",
        "        self.surname = surname\n",
        "        self.courses_attached = []\n",
        "\n",
        "    def add_attached_courses(self, course_name):\n",
        "        self.courses_attached.append(course_name)\n",
        "\n",
        "    def get_attached_courses(self):\n",
        "        return self.courses_attached\n",
        "\n",
        "class Reviewer(Mentor):\n",
        "    def set_marks(self, student, course, grade):\n",
        "        student.grades[course] = [grade]\n",
        "\n",
        "class Lecturer(Mentor):\n",
        "    def __init__(self, name, surname):\n",
        "        super().__init__(name, surname)\n",
        "        self.student_grades = {}\n",
        "\n",
        "    def grade_student(self, student, course, grade):\n",
        "        if course in self.get_attached_courses() and course in student.get_course():\n",
        "            if 0 <= grade <= 10:\n",
        "\n",
        "                if course not in student.grades:\n",
        "                    student.grades[course] = []\n",
        "\n",
        "                student.grades[course].append(grade)\n",
        "\n",
        "                if student not in self.student_grades:\n",
        "                    self.student_grades[student] = {}\n",
        "\n",
        "                if course not in self.student_grades[student]:\n",
        "                    self.student_grades[student][course] = []\n",
        "\n",
        "                self.student_grades[student][course].append(grade)\n",
        "            else:\n",
        "                print(\"Оценка должна быть в пределах 0<=grade<=10\")\n",
        "        else:\n",
        "            print(\"Лектор не закреплён за курсом\")\n",
        "\n",
        "    def grade_book(self):\n",
        "        if not self.student_grades:\n",
        "            return \"Журнал оценок пуст.\"\n",
        "\n",
        "        result = \"Журнал оценок:\\n\"\n",
        "        for student, courses in self.student_grades.items():\n",
        "            result += f\"\\nСтудент: {student.name} {student.surname}\\n\"\n",
        "            for course, grades in courses.items():\n",
        "                result += f\"Курс: {course}, Оценки: {grades}\\n\"\n",
        "\n",
        "        print(result)\n",
        "\n",
        "# Тесты\n",
        "lect = Lecturer('Максим', 'Бондаренко')\n",
        "lect.add_attached_courses(\"PY\")\n",
        "lect.add_attached_courses(\"C++\")\n",
        "\n",
        "stud1 = Student('Николай', 'Юрьевч', 'Empty')\n",
        "stud1.add_courses('PY')\n",
        "stud2 = Student('Марат', 'Гегамович', ' Empty')\n",
        "stud2.add_courses('C++')\n",
        "stud2.add_courses('PY')\n",
        "\n",
        "lect.grade_student(stud1, \"PY\", 6)\n",
        "lect.grade_student(stud2, \"C++\",6)\n",
        "lect.grade_student(stud2, \"PY\", 6)\n",
        "lect.grade_student(stud1, \"PY\", 5)\n",
        "\n",
        "lect.grade_book()"
      ],
      "metadata": {
        "id": "U30yyvuirv6H",
        "colab": {
          "base_uri": "https://localhost:8080/"
        },
        "outputId": "a0c71614-80be-47a5-ebf9-eae1fd0085c5"
      },
      "execution_count": 1,
      "outputs": [
        {
          "output_type": "stream",
          "name": "stdout",
          "text": [
            "Журнал оценок:\n",
            "\n",
            "Студент: Николай Юрьевч\n",
            "Курс: PY, Оценки: [6, 5]\n",
            "\n",
            "Студент: Марат Гегамович\n",
            "Курс: C++, Оценки: [6]\n",
            "Курс: PY, Оценки: [6]\n",
            "\n"
          ]
        }
      ]
    },
    {
      "cell_type": "markdown",
      "source": [
        "### **3.3. Полиморфизм и магические методы**"
      ],
      "metadata": {
        "id": "i6PrwEBSu39u"
      }
    },
    {
      "cell_type": "markdown",
      "source": [
        "Перегрузите магический метод \\_\\_str__ у всех классов.\n",
        "У проверяющих он должен выводить информацию в следующем виде:\n",
        "\n",
        "\n",
        "\n",
        "```\n",
        "print(some_reviewer)\n",
        "Имя: Some\n",
        "Фамилия: Buddy\n",
        "```\n",
        "\n",
        "У лекторов:\n",
        "\n",
        "\n",
        "\n",
        "```\n",
        "print(some_lecturer)\n",
        "Имя: Some\n",
        "Фамилия: Buddy\n",
        "Средняя оценка за лекции: 9.9\n",
        "```\n",
        "\n",
        "А у студентов так:\n",
        "\n",
        "\n",
        "\n",
        "```\n",
        "print(some_student)\n",
        "Имя: Ruoy\n",
        "Фамилия: Eman\n",
        "Средняя оценка за домашние задания: 9.9\n",
        "Курсы в процессе изучения: Python, Git\n",
        "Завершенные курсы: Введение в программирование\n",
        "```\n",
        "\n",
        "\n",
        "\n"
      ],
      "metadata": {
        "id": "GvmtjlnmvF8b"
      }
    },
    {
      "cell_type": "code",
      "source": [
        "class Student:\n",
        "    def __init__(self, name, surname, gender):\n",
        "        self.name = name\n",
        "        self.surname = surname\n",
        "        self.gender = gender\n",
        "        self.courses = []\n",
        "        self.grades = {}\n",
        "        self.completed_courses = []\n",
        "\n",
        "    def add_courses(self, course_name):\n",
        "        self.courses.append(course_name)\n",
        "\n",
        "    def get_course(self):\n",
        "        return self.courses\n",
        "\n",
        "    def add_completed_courses(self, course_name):\n",
        "        self.completed_courses.append(course_name)\n",
        "\n",
        "    def __str__(self):\n",
        "        marks = []\n",
        "        for subject, mark_lst in self.grades.items():\n",
        "            for i in mark_lst:\n",
        "                marks.append(i)\n",
        "        result = str(\n",
        "            f\"Имя: {self.name}\\n\"\n",
        "            f\"Фамилия: {self.surname}\\n\"\n",
        "            f\"Средняя оценка за домашние задания: {sum(marks)/len(marks) if len(marks) > 0 else 0}\\n\"\n",
        "            f\"Курсы в процессе изучения: \" + \", \".join(str(i) for i in self.courses) + \"\\n\"\n",
        "            f\"Завершенные курсы: \" + \", \".join(str(i) for i in self.completed_courses)\n",
        "        )\n",
        "        return result\n",
        "\n",
        "class Mentor:\n",
        "    def __init__(self, name, surname):\n",
        "        self.name = name\n",
        "        self.surname = surname\n",
        "        self.courses_attached = []\n",
        "\n",
        "    def add_attached_courses(self, course_name):\n",
        "        self.courses_attached.append(course_name)\n",
        "\n",
        "    def get_attached_courses(self):\n",
        "        return self.courses_attached\n",
        "\n",
        "    def __str__(self):\n",
        "        return f\"Имя: {self.name}\\nФамилия: {self.surname}\"\n",
        "\n",
        "class Reviewer(Mentor):\n",
        "    def set_marks(self, student, course, grade):\n",
        "        student.grades[course] = [grade]\n",
        "\n",
        "    def __str__(self):\n",
        "        return f'Имя: {self.name}\\nФамилия: {self.surname}\\n'\n",
        "\n",
        "class Lecturer(Mentor):\n",
        "    def __init__(self, name, surname):\n",
        "        super().__init__(name, surname)\n",
        "        self.student_grades = {}\n",
        "\n",
        "    def grade_student(self, student, course, grade):\n",
        "        if course in self.get_attached_courses() and course in student.get_course():\n",
        "            if 0 <= grade <= 10:\n",
        "\n",
        "                if course not in student.grades:\n",
        "                    student.grades[course] = []\n",
        "\n",
        "                student.grades[course].append(grade)\n",
        "\n",
        "                if student not in self.student_grades:\n",
        "                    self.student_grades[student] = {}\n",
        "\n",
        "                if course not in self.student_grades[student]:\n",
        "                    self.student_grades[student][course] = []\n",
        "\n",
        "                self.student_grades[student][course].append(grade)\n",
        "            else:\n",
        "                print(\"Оценка должна быть в пределах 0<=grade<=10\")\n",
        "        else:\n",
        "            print(\"Лектор не закреплён за курсом\")\n",
        "\n",
        "    def grade_book(self):\n",
        "        if not self.student_grades:\n",
        "            return \"Журнал оценок пуст.\"\n",
        "\n",
        "        result = \"Журнал оценок:\\n\"\n",
        "        for student, courses in self.student_grades.items():\n",
        "            result += f\"\\nСтудент: {student.name} {student.surname}\\n\"\n",
        "            for course, grades in courses.items():\n",
        "                result += f\"Курс: {course}, Оценки: {grades}\\n\"\n",
        "\n",
        "        print(result)\n",
        "\n",
        "    def __str__(self):\n",
        "        marks = []\n",
        "        for student, courses in self.student_grades.items():\n",
        "            for course, grades in courses.items():\n",
        "                for i in grades:\n",
        "                    marks.append(i)\n",
        "\n",
        "        return f'Имя: {self.name}\\nФамилия: {self.surname}\\nСредняя оценка за лекции: {sum(marks) / len(marks)}\\n'\n",
        "\n",
        "# Тесты\n",
        "lect = Lecturer('Максим', 'Юрьевич')\n",
        "lect.add_attached_courses(\"PY\")\n",
        "lect.add_attached_courses(\"C++\")\n",
        "\n",
        "stud1 = Student('Иван', 'Иванов', 'Empty ')\n",
        "stud1.add_courses('PY')\n",
        "stud2 = Student('Вельгельм', 'Саналович', 'Empty')\n",
        "stud2.add_courses('C++')\n",
        "stud2.add_courses('PY')\n",
        "stud2.add_completed_courses(\"empty на React\")\n",
        "\n",
        "\n",
        "lect.grade_student(stud1, \"PY\", 3)\n",
        "lect.grade_student(stud2, \"C++\", 4)\n",
        "lect.grade_student(stud2, \"PY\", 6)\n",
        "lect.grade_student(stud1, \"PY\", 9)\n",
        "\n",
        "lect.grade_book()\n",
        "\n",
        "rev1 = Reviewer(\"Николай\", \"Николаевич\")\n",
        "\n",
        "print(rev1)\n",
        "print(lect)\n",
        "print(stud2)"
      ],
      "metadata": {
        "id": "gCJAL_EmwU0b",
        "colab": {
          "base_uri": "https://localhost:8080/"
        },
        "outputId": "a95f98c6-4a67-415b-9c16-a5d6c45fd3aa"
      },
      "execution_count": 2,
      "outputs": [
        {
          "output_type": "stream",
          "name": "stdout",
          "text": [
            "Журнал оценок:\n",
            "\n",
            "Студент: Иван Иванов\n",
            "Курс: PY, Оценки: [3, 9]\n",
            "\n",
            "Студент: Вельгельм Саналович\n",
            "Курс: C++, Оценки: [4]\n",
            "Курс: PY, Оценки: [6]\n",
            "\n",
            "Имя: Николай\n",
            "Фамилия: Николаевич\n",
            "\n",
            "Имя: Максим\n",
            "Фамилия: Юрьевич\n",
            "Средняя оценка за лекции: 5.5\n",
            "\n",
            "Имя: Вельгельм\n",
            "Фамилия: Саналович\n",
            "Средняя оценка за домашние задания: 5.0\n",
            "Курсы в процессе изучения: C++, PY\n",
            "Завершенные курсы: empty на React\n"
          ]
        }
      ]
    },
    {
      "cell_type": "markdown",
      "source": [
        "**Реализуйте перегрузку других магических методов на Ваш выбор (не менее трёх), руководствуясь по смыслу контекстом представленных классов (студенты, преподаватели, оценки и т.д.)**"
      ],
      "metadata": {
        "id": "1DNE4TE3vfYI"
      }
    },
    {
      "cell_type": "code",
      "source": [
        "class Student:\n",
        "    def __init__(self, name, surname, gender):\n",
        "        self.name = name\n",
        "        self.surname = surname\n",
        "        self.gender = gender\n",
        "        self.courses = []\n",
        "        self.grades = {}\n",
        "        self.completed_courses = []\n",
        "\n",
        "    def add_courses(self, *course_name):\n",
        "        for i in course_name:\n",
        "            self.courses.append(i)\n",
        "\n",
        "    def add_completed_courses(self, *course_name):\n",
        "        for i in course_name:\n",
        "            self.completed_courses.append(i)\n",
        "\n",
        "    def get_course(self):\n",
        "        return self.courses\n",
        "\n",
        "    def get_grades(self, course):\n",
        "        return self.grades[course]\n",
        "\n",
        "    def __str__(self):\n",
        "        marks = []\n",
        "        for subject, mark_lst in self.grades.items():\n",
        "            for i in mark_lst:\n",
        "                marks.append(i)\n",
        "        result = str(\n",
        "            f\"Имя: {self.name}\\n\"\n",
        "            f\"Фамилия: {self.surname}\\n\"\n",
        "            f\"Средняя оценка за домашние задания: {sum(marks)/len(marks) if len(marks) > 0 else 0}\\n\"\n",
        "            f\"Курсы в процессе изучения: \" + \", \".join(str(i) for i in self.courses) + \"\\n\"\n",
        "            f\"Завершенные курсы: \" + \", \".join(str(i) for i in self.completed_courses)\n",
        "        )\n",
        "        return result\n",
        "\n",
        "    def __setitem__(self, index, replacing_completed_course):\n",
        "        if index < len(self.completed_courses):\n",
        "            self.completed_courses[index] = replacing_completed_course\n",
        "        else:\n",
        "            print(\"Ошибка, человек прошёл не так много курсов\")\n",
        "\n",
        "\n",
        "class Mentor:\n",
        "    def __init__(self, name, surname):\n",
        "        self.name = name\n",
        "        self.surname = surname\n",
        "        self.courses_attached = []\n",
        "\n",
        "    def add_attached_courses(self, *course_name):\n",
        "        for i in course_name:\n",
        "            self.courses_attached.append(i)\n",
        "\n",
        "    def get_attached_courses(self):\n",
        "        return self.courses_attached\n",
        "\n",
        "    def __str__(self):\n",
        "        return f\"Имя: {self.name}\\nФамилия: {self.surname}\"\n",
        "\n",
        "    def __eq__(self, another_course):\n",
        "        if str(another_course) in self.courses_attached:\n",
        "            return f'Преподаватель ведёт курс {another_course}'\n",
        "        else:\n",
        "            return f'Преподаватель не ведёт курс {another_course}'\n",
        "\n",
        "class Reviewer(Mentor):\n",
        "    def set_marks(self, student, course, grade):\n",
        "        student.grades[course] = [grade]\n",
        "\n",
        "    def __str__(self):\n",
        "        return f'Имя: {self.name}\\nФамилия: {self.surname}\\n'\n",
        "\n",
        "    def __add__(self, money):\n",
        "        if money > 0:\n",
        "            return f'Ревьюверу повысили зарпалату на {money} денег'\n",
        "        elif money == 0:\n",
        "            return f'Ревьюверу пока рано менять зарплату'\n",
        "        else:\n",
        "            f'Ревьювер плохо проверял работу и брал взятки, его зарплата понижена на {money} денег'\n",
        "class Lecturer(Mentor):\n",
        "    def __init__(self, name, surname):\n",
        "        super().__init__(name, surname)\n",
        "        self.student_grades = {}\n",
        "\n",
        "    def get_attached_courses_grades(self, course):\n",
        "        marks = []\n",
        "        for student, cours1 in self.student_grades.items():\n",
        "            marks.extend(cours1[course])\n",
        "        return marks\n",
        "\n",
        "    def grade_student(self, student, course, grade):\n",
        "        if course in self.get_attached_courses() and course in student.get_course():\n",
        "            if 0 <= grade <= 10:\n",
        "\n",
        "                if course not in student.grades:\n",
        "                    student.grades[course] = []\n",
        "\n",
        "                student.grades[course].append(grade)\n",
        "\n",
        "                if student not in self.student_grades:\n",
        "                    self.student_grades[student] = {}\n",
        "\n",
        "                if course not in self.student_grades[student]:\n",
        "                    self.student_grades[student][course] = []\n",
        "\n",
        "                self.student_grades[student][course].append(grade)\n",
        "            else:\n",
        "                print(\"Оценка должна быть в пределах 0<=grade<=10\")\n",
        "        else:\n",
        "            print(\"Лектор не закреплён за курсом\")\n",
        "\n",
        "    def grade_book(self):\n",
        "        if not self.student_grades:\n",
        "            return \"Журнал оценок пуст.\"\n",
        "\n",
        "        result = \"Журнал оценок:\\n\"\n",
        "        for student, courses in self.student_grades.items():\n",
        "            result += f\"\\nСтудент: {student.name} {student.surname}\\n\"\n",
        "            for course, grades in courses.items():\n",
        "                result += f\"Курс: {course}, Оценки: {grades}\\n\"\n",
        "\n",
        "        print(result)\n",
        "\n",
        "    def __str__(self):\n",
        "        marks = []\n",
        "        for student, courses in self.student_grades.items():\n",
        "            for course, grades in courses.items():\n",
        "                for i in grades:\n",
        "                    marks.append(i)\n",
        "\n",
        "        return f'Имя: {self.name}\\nФамилия: {self.surname}\\nСредняя оценка за лекции: {sum(marks) / len(marks)}\\n'\n",
        "\n",
        "# Тесты\n",
        "lect = Lecturer('Максим', 'Юрьевич')\n",
        "\n",
        "stud1 = Student('Михаил', 'Жораевич', ' Empty')\n",
        "stud1.add_completed_courses(\"Elf Language\")\n",
        "\n",
        "rev1 = Reviewer(\"Андрей\", \"Иванов\")\n",
        "\n",
        "print(rev1 + 200000)\n",
        "print(lect == \"Russian\")\n",
        "print(\"До измениния курса\", stud1.completed_courses)\n",
        "stud1[0] = \"AAA Russian\"\n",
        "print('После изменения курса', stud1.completed_courses)"
      ],
      "metadata": {
        "id": "WNCf9PPMu4Gv",
        "colab": {
          "base_uri": "https://localhost:8080/"
        },
        "outputId": "e0ff8faa-cd80-4155-e479-772c70788e39"
      },
      "execution_count": 3,
      "outputs": [
        {
          "output_type": "stream",
          "name": "stdout",
          "text": [
            "Ревьюверу повысили зарпалату на 200000 денег\n",
            "Преподаватель не ведёт курс Russian\n",
            "До измениния курса ['Elf Language']\n",
            "После изменения курса ['AAA Russian']\n"
          ]
        }
      ]
    },
    {
      "cell_type": "markdown",
      "source": [],
      "metadata": {
        "id": "wGhxso4gmIr5"
      }
    },
    {
      "cell_type": "markdown",
      "source": [
        "### **3.4. Тестирование**\n",
        "\n",
        "Создайте по 2 экземпляра каждого класса, вызовите все созданные методы, а также реализуйте две функции:\n",
        "\n",
        "* для подсчета средней оценки за домашние задания по всем студентам в рамках конкретного курса (в качестве аргументов принимаем список студентов и название курса);\n",
        "* для подсчета средней оценки за лекции всех лекторов в рамках курса (в качестве аргумента принимаем список лекторов и название курса)."
      ],
      "metadata": {
        "id": "X8xvLNT6u4Nn"
      }
    },
    {
      "cell_type": "markdown",
      "source": [],
      "metadata": {
        "id": "fpA6MK9aIWtR"
      }
    },
    {
      "cell_type": "code",
      "source": [
        "#Объявление 2-ух функций по заданию\n",
        "def calc_average_marks_students(students, course):\n",
        "    all_grades = []\n",
        "    length = 0\n",
        "    for i in students:\n",
        "        if course in i.grades:\n",
        "            all_grades.extend(i.get_grades(course))\n",
        "            length += len(i.get_grades(course))\n",
        "    return sum(all_grades)/length\n",
        "\n",
        "def calc_average_marks_lecturers(lectures, course):\n",
        "    all_grades = []\n",
        "    length = 0\n",
        "    for i in lectures:\n",
        "        if course in i.get_attached_courses():\n",
        "            all_grades = i.get_attached_courses_grades(course)\n",
        "            length += len(i.get_attached_courses_grades(course))\n",
        "    return sum(all_grades) / length\n",
        "\n",
        "#Объявление 2-ух экземпляров каждого класса\n",
        "Stud1 = Student('Максим', 'Бондаренко', 'M')\n",
        "Stud2 = Student('Святослав', 'Иванов', 'F')\n",
        "Ment1 = Mentor('Екатерина', 'Николаевна')\n",
        "Ment2 = Mentor('Мария', 'Ивнова')\n",
        "Rev1 = Reviewer('Евгений', 'Денисович')\n",
        "Rev2 = Reviewer('Юрий', 'Константинович')\n",
        "Lect1 = Lecturer('Анатолий', 'Никитивеч')\n",
        "Lect2 = Lecturer('Султан', 'Лагучев')\n",
        "\n",
        "#Все методы у Student:\n",
        "Stud1.add_courses(\"Russian\", \"English\", \"PHP\", \"Symphoni\")\n",
        "Stud2.add_courses(\"PHP\", \"Laravel\", \"Symphoni\", \"Russian\", \"Symphoni\")\n",
        "Stud1.add_completed_courses(\"HTML\",\"Wordpress\")\n",
        "Stud2.add_completed_courses(\"Docker\", \"nginx\")\n",
        "Stud1.get_course()\n",
        "Stud2.get_course()\n",
        "\n",
        "#Все методы у Mentor:\n",
        "Ment1.add_attached_courses(\"Russian\", \"English\")\n",
        "Ment2.add_attached_courses(\"PHP\", \"Laravel\", \"Symphoni\")\n",
        "Ment1.get_attached_courses()\n",
        "Ment2.get_attached_courses()\n",
        "\n",
        "#Все методы у Reviewer\n",
        "Rev1.set_marks(Stud1, \"Russian\", 3)\n",
        "Rev1.set_marks(Stud1, \"PHP\", 6)\n",
        "Rev2.set_marks(Stud2, \"Symphoni\", 10)\n",
        "Rev2.set_marks(Stud2, \"Russian\", 4)\n",
        "Stud1.get_grades(\"Russian\")\n",
        "Stud2.get_grades(\"Symphoni\")\n",
        "\n",
        "#Все методы у Lecturer\n",
        "Lect1.add_attached_courses(\"Russian\", \"English\", \"Symphoni\")\n",
        "Lect2.add_attached_courses(\"PHP\", \"Laravel\", \"Symphoni\", \"English\")\n",
        "Lect1.grade_student(Stud1, \"Russian\", 6)\n",
        "Lect2.grade_student(Stud2, \"Laravel\", 6)\n",
        "Lect2.grade_student(Stud2, \"PHP\", 8)\n",
        "Lect1.grade_student(Stud1, \"Symphoni\", 5)\n",
        "Lect2.grade_student(Stud2, \"Symphoni\", 5)\n",
        "Lect2.grade_student(Stud2, \"Symphoni\", 6)\n",
        "Lect1.grade_book()\n",
        "Lect2.grade_book()\n",
        "\n",
        "print(calc_average_marks_students([Stud1, Stud2], \"Russian\"))\n",
        "print(calc_average_marks_lecturers([Lect1, Lect2], \"Symphoni\"))"
      ],
      "metadata": {
        "id": "uh8n08fdu4V_",
        "colab": {
          "base_uri": "https://localhost:8080/"
        },
        "outputId": "3ffff3fe-1cf8-4d9d-f1aa-02fdd88a592e"
      },
      "execution_count": null,
      "outputs": [
        {
          "output_type": "stream",
          "name": "stdout",
          "text": [
            "Журнал оценок:\n",
            "\n",
            "Студент: Максим Бондаренко\n",
            "Курс: Russian, Оценки: [6]\n",
            "Курс: Symphoni, Оценки: [5]\n",
            "\n",
            "Журнал оценок:\n",
            "\n",
            "Студент: Святослав Иванов\n",
            "Курс: Laravel, Оценки: [6]\n",
            "Курс: PHP, Оценки: [8]\n",
            "Курс: Symphoni, Оценки: [5, 6]\n",
            "\n",
            "4.333333333333333\n",
            "3.6666666666666665\n"
          ]
        }
      ]
    },
    {
      "cell_type": "markdown",
      "source": [
        "## **Задание №4. Перегрузка операторов с помощью магических методов**\n"
      ],
      "metadata": {
        "id": "ehfo80anwJUM"
      }
    },
    {
      "cell_type": "markdown",
      "source": [
        "### **Цель задания:**\n",
        "\n"
      ],
      "metadata": {
        "id": "i_KsKg4awZOJ"
      }
    },
    {
      "cell_type": "markdown",
      "source": [
        "Разработать класс `Fraction` для работы с рациональными числами (дробями), реализовав перегрузку стандартных операторов через переопределение соответствующих магических методов. Ваша задача — обеспечить класс `Fraction` функциональностью, демонстрируемой в приведенном примере кода."
      ],
      "metadata": {
        "id": "JvIIB641watq"
      }
    },
    {
      "cell_type": "markdown",
      "source": [
        "### **Описание задания:**\n",
        "\n"
      ],
      "metadata": {
        "id": "BZ9kMLrYwcW_"
      }
    },
    {
      "cell_type": "markdown",
      "source": [
        "Создайте класс `Fraction`, который представляет собой обыкновенную дробь с числителем и знаменателем. Перегрузите основные арифметические операторы для выполнения операций над дробями, а также операторы сравнения. Обеспечьте возможность преобразования дроби в число с плавающей точкой и обратную операцию. Реализуйте обработку исключений при некорректных данных. Предоставьте понятное строковое и официальное представление дроби."
      ],
      "metadata": {
        "id": "6Qt56A-Bwe87"
      }
    },
    {
      "cell_type": "markdown",
      "source": [
        "**Требования к заданию:**\n"
      ],
      "metadata": {
        "id": "1lv3NnB_whqP"
      }
    },
    {
      "cell_type": "markdown",
      "source": [
        "\n",
        "1. **Класс `Fraction` должен:**\n",
        "\n",
        "   - Инициализироваться двумя целыми числами: числителем и знаменателем.\n",
        "   - Обрабатывать ситуацию когда знаменатель равен нулю, а именно выводить сообщение `\"Знаменатель не может быть нулем\"`.\n",
        "   - Упрощать дроби до несократимых при создании и после каждой арифметической операции.\n",
        "\n",
        "2. **Перегрузить следующие операторы путем переопределения магических методов:**\n",
        "\n",
        "   - **Сложение `+`** (`__add__`): сложение двух дробей, возвращает новую дробь.\n",
        "   - **Вычитание `-`** (`__sub__`): вычитание одной дроби из другой, возвращает новую дробь.\n",
        "   - **Умножение `*`** (`__mul__`): умножение двух дробей, возвращает новую дробь.\n",
        "   - **Деление `/`** (`__truediv__`): деление одной дроби на другую, возвращает новую дробь.\n",
        "   - **Равенство `==`** (`__eq__`): проверка равенства двух дробей.\n",
        "   - **Сравнения `>`, `<`, `>=`, `<=`**: сравнение дробей по их значению, реализовать методы `__lt__`, `__le__`, `__gt__`, `__ge__`.\n",
        "\n",
        "3. **Реализовать преобразование типов:**\n",
        "\n",
        "   - **Метод `__float__`**: преобразование дроби в число с плавающей точкой.\n",
        "\n",
        "4. **Дополнительные методы класса:**\n",
        "\n",
        "   - **`reciprocal()`**: возвращает новую дробь, обратную данной (числитель и знаменатель меняются местами).\n",
        "   - **Строковое представление** (`__str__`): возвращает строку вида `\"числитель/знаменатель\"`. Если знаменатель равен 1, возвращает только числитель в виде строки.\n",
        "   - **Официальное представление** (`__repr__`): возвращает строку вида `\"Fraction(числитель, знаменатель)\"`.\n",
        "\n",
        "5. **Обработка исключений:**\n",
        "\n",
        "   - При попытке создать дробь с нулевым знаменателем выводить в консоль сообщение `ValueError`.\n",
        "   - При попытке деления на нулевую дробь, выводить в консоль сообщение `ZeroDivisionError`.\n",
        "\n",
        "6. **Тестирование:**\n",
        "\n",
        "   - Написать код, демонстрирующий работу всех реализованных методов и операторов, используя примеры, приведенные ниже.\n",
        "   - Обеспечить корректную обработку исключений и вывод соответствующих сообщений.\n",
        "\n",
        "\n",
        "\n"
      ],
      "metadata": {
        "id": "4tJX8suPv0TY"
      }
    },
    {
      "cell_type": "code",
      "source": [
        "def find_common_divisor(fraction):\n",
        "    nume = fraction.get_numerator()\n",
        "    deno = fraction.get_denominator()\n",
        "    divisor = 2\n",
        "    while divisor < nume or divisor < deno:\n",
        "        if nume % divisor == 0 and deno % divisor == 0:\n",
        "            return divisor\n",
        "        divisor += 1\n",
        "    return divisor\n",
        "\n",
        "def simplify_fraction(fraction):\n",
        "    nume = fraction.get_numerator()\n",
        "    deno = fraction.get_denominator()\n",
        "\n",
        "    common_divisor = find_common_divisor(fraction)\n",
        "\n",
        "    while nume % common_divisor == 0 and deno % common_divisor == 0:\n",
        "        nume //= common_divisor\n",
        "        deno //= common_divisor\n",
        "\n",
        "    return Fraction(nume, deno)\n",
        "\n",
        "class Fraction:\n",
        "\n",
        "    def __init__(self, numerator, denominator):\n",
        "        self.numerator = numerator\n",
        "        if denominator == 0:\n",
        "            raise ValueError(\"Знаменатель не может быть нулем\")\n",
        "        self.denominator = denominator\n",
        "\n",
        "    def __add__(self, other):\n",
        "        return simplify_fraction(Fraction(self.numerator * other.denominator + other.numerator * self.denominator, self.denominator * other.denominator))\n",
        "\n",
        "    def __sub__(self, other):\n",
        "        return simplify_fraction(Fraction(self.numerator * other.denominator - other.numerator * self.denominator, self.denominator * other.denominator))\n",
        "\n",
        "    def __mul__(self, other):\n",
        "        return simplify_fraction(Fraction(self.numerator * other.numerator, self.denominator * other.denominator))\n",
        "\n",
        "    def __truediv__(self, other):\n",
        "        if other.denominator == 0:\n",
        "            raise ZeroDivisionError('Деление на ноль')\n",
        "        return simplify_fraction(Fraction(self.numerator * other.denominator, other.numerator * self.denominator))\n",
        "\n",
        "    def __eq__(self, other):\n",
        "        return (self.numerator * other.denominator / self.denominator * other.denominator) == (other.numerator * self.denominator / self.denominator * other.denominator)\n",
        "\n",
        "    def __lt__(self, other):\n",
        "        return (self.numerator * other.denominator / self.denominator * other.denominator) < (other.numerator * self.denominator / self.denominator * other.denominator)\n",
        "\n",
        "    def __le__(self, other):\n",
        "        return (self.numerator * other.denominator / self.denominator * other.denominator) <= (other.numerator * self.denominator / self.denominator * other.denominator)\n",
        "\n",
        "    def __gt__(self, other):\n",
        "        return (self.numerator * other.denominator / self.denominator * other.denominator) > (other.numerator * self.denominator / self.denominator * other.denominator)\n",
        "\n",
        "    def __ge__(self, other):\n",
        "        return (self.numerator * other.denominator / self.denominator * other.denominator) >= (other.numerator * self.denominator / self.denominator * other.denominator)\n",
        "\n",
        "    def __float__(self):\n",
        "        return self.numerator/self.denominator\n",
        "\n",
        "    def reciprocal(self):\n",
        "        return Fraction(self.denominator, self.numerator)\n",
        "\n",
        "    def __str__(self):\n",
        "        return f'{self.numerator}/{self.denominator}'\n",
        "\n",
        "    def __repr__(self):\n",
        "        return f'Fraction({self.numerator}, {self.denominator})'\n",
        "\n",
        "    def from_float(other):\n",
        "        count_zeroes = 0\n",
        "        while other % 1 != 0:\n",
        "            other *= 10\n",
        "            count_zeroes += 1\n",
        "        return simplify_fraction(Fraction(int(other), 10**count_zeroes))\n",
        "\n",
        "    def get_numerator(self):\n",
        "        return self.numerator\n",
        "\n",
        "    def get_denominator(self):\n",
        "        return self.denominator\n",
        "\n",
        "\n",
        "\n"
      ],
      "metadata": {
        "id": "58JlCtFkxpmU"
      },
      "execution_count": null,
      "outputs": []
    },
    {
      "cell_type": "markdown",
      "source": [
        "**Тесты для класса `Fraction`:**\n"
      ],
      "metadata": {
        "id": "N5tZxFvIxdIy"
      }
    },
    {
      "cell_type": "code",
      "source": [
        "# Создание дробей\n",
        "f1 = Fraction(3, 4)\n",
        "f2 = Fraction(5, 6)\n",
        "\n",
        "# Сложение дробей\n",
        "f3 = f1 + f2\n",
        "print(f3)  # Ожидаемый вывод: 19/12\n",
        "\n",
        "# Вычитание дробей\n",
        "f4 = f1 - f2\n",
        "print(f4)  # Ожидаемый вывод: -1/12\n",
        "\n",
        "# Умножение дробей\n",
        "f5 = f1 * f2\n",
        "print(f5)  # Ожидаемый вывод: 5/8\n",
        "\n",
        "# Деление дробей\n",
        "f6 = f1 / f2\n",
        "print(f6)  # Ожидаемый вывод: 9/10\n",
        "\n",
        "# Проверка равенства\n",
        "print(f1 == Fraction(6, 8))   # Ожидаемый вывод: True\n",
        "\n",
        "# Сравнение дробей\n",
        "print(f1 > f2)    # Ожидаемый вывод: False\n",
        "print(f1 < f2)    # Ожидаемый вывод: True\n",
        "\n",
        "# Преобразование к float\n",
        "print(float(f1))  # Ожидаемый вывод: 0.75\n",
        "\n",
        "# Обратная дробь\n",
        "f7 = f1.reciprocal()\n",
        "print(f7)         # Ожидаемый вывод: 4/3\n",
        "\n",
        "# Создание дроби из float\n",
        "f8 = Fraction.from_float(0.75)\n",
        "print(f8)         # Ожидаемый вывод: 3/4\n",
        "\n",
        "# Проверка обработки исключений\n",
        "try:\n",
        "    f_invalid = Fraction(5, 0)\n",
        "except ValueError as e:\n",
        "    print(e)  # Ожидаемый вывод: Знаменатель не может быть нулем\n",
        "\n",
        "# Строковое и официальное представление\n",
        "print(str(f1))    # Ожидаемый вывод: 3/4\n",
        "print(repr(f1))   # Ожидаемый вывод: Fraction(3, 4)"
      ],
      "metadata": {
        "id": "U1UtgDM0xlqJ",
        "colab": {
          "base_uri": "https://localhost:8080/"
        },
        "outputId": "19973f3f-a9ee-41dd-c8bc-d90a3ac80b1b"
      },
      "execution_count": null,
      "outputs": [
        {
          "output_type": "stream",
          "name": "stdout",
          "text": [
            "19/12\n",
            "-1/12\n",
            "5/8\n",
            "9/10\n",
            "True\n",
            "False\n",
            "True\n",
            "0.75\n",
            "4/3\n",
            "3/4\n",
            "Знаменатель не может быть нулем\n",
            "3/4\n",
            "Fraction(3, 4)\n"
          ]
        }
      ]
    }
  ]
}