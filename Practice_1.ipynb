{
  "nbformat": 4,
  "nbformat_minor": 0,
  "metadata": {
    "colab": {
      "provenance": [],
      "include_colab_link": true
    },
    "kernelspec": {
      "name": "python3",
      "display_name": "Python 3"
    },
    "language_info": {
      "name": "python"
    }
  },
  "cells": [
    {
      "cell_type": "markdown",
      "metadata": {
        "id": "view-in-github",
        "colab_type": "text"
      },
      "source": [
        "<a href=\"https://colab.research.google.com/github/Maxrgrz/University/blob/main/Practice_1.ipynb\" target=\"_parent\"><img src=\"https://colab.research.google.com/assets/colab-badge.svg\" alt=\"Open In Colab\"/></a>"
      ]
    },
    {
      "cell_type": "code",
      "execution_count": null,
      "metadata": {
        "colab": {
          "base_uri": "https://localhost:8080/"
        },
        "id": "63B-xNEooWdq",
        "outputId": "26260992-853e-4de7-f7e2-47eb010a9d6c"
      },
      "outputs": [
        {
          "output_type": "stream",
          "name": "stdout",
          "text": [
            "3370\n",
            "6677\n"
          ]
        }
      ],
      "source": [
        "import random\n",
        "def random_roll():\n",
        "\tdoors = set([1, 2, 3])\n",
        "\tpossible_options = doors.copy()\n",
        "\tauto = random.randint(1, 3)\n",
        "\ta=0\n",
        "\tprimary_choice = random.randint(1, 3)\n",
        "\ttry:\n",
        "\t\tpossible_options.remove(auto)\n",
        "\t\tpossible_options.remove(primary_choice)\n",
        "\texcept:\n",
        "\t\tpass\n",
        "\n",
        "\n",
        "\n",
        "\tchoice = random.randint(1,len(possible_options))\n",
        "\tfor i in range(choice):\n",
        "\t\treveal = possible_options.pop()\n",
        "\tdoors.remove(reveal)\n",
        "\tdoors.remove(primary_choice)\n",
        "\tchoice = doors.pop()\n",
        "\tif auto == choice:\n",
        "\t\treturn 1\n",
        "\telse:\n",
        "\t\treturn 0\n",
        "\n",
        "\n",
        "\n",
        "def not_changing():\n",
        "\tdoors = set([1, 2, 3])\n",
        "\tpossible_options = doors.copy()\n",
        "\tauto = random.randint(1, 3)\n",
        "\ta=0\n",
        "\tprimary_choice = random.randint(1, 3)\n",
        "\ttry:\n",
        "\t\tpossible_options.remove(auto)\n",
        "\t\tpossible_options.remove(primary_choice)\n",
        "\texcept:\n",
        "\t\tpass\n",
        "\n",
        "\n",
        "\n",
        "\tchoice = random.randint(1,len(possible_options))\n",
        "\tfor i in range(choice):\n",
        "\t\treveal = possible_options.pop()\n",
        "\tif auto == primary_choice:\n",
        "\t\treturn 1\n",
        "\telse:\n",
        "\t\treturn 0\n",
        "a=0\n",
        "for i in range(10000):\n",
        "\ta+=not_changing()\n",
        "\n",
        "print(a)\n",
        "a=0\n",
        "\n",
        "for i in range(10000):\n",
        "\ta+=random_roll()\n",
        "\n",
        "print (a)"
      ]
    }
  ]
}