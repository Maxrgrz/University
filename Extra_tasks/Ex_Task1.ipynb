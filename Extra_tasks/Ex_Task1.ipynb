{
  "nbformat": 4,
  "nbformat_minor": 0,
  "metadata": {
    "colab": {
      "provenance": [],
      "include_colab_link": true
    },
    "kernelspec": {
      "name": "python3",
      "display_name": "Python 3"
    },
    "language_info": {
      "name": "python"
    }
  },
  "cells": [
    {
      "cell_type": "markdown",
      "metadata": {
        "id": "view-in-github",
        "colab_type": "text"
      },
      "source": [
        "<a href=\"https://colab.research.google.com/github/Maxrgrz/University/blob/main/Extra_tasks/Ex_Task1.ipynb\" target=\"_parent\"><img src=\"https://colab.research.google.com/assets/colab-badge.svg\" alt=\"Open In Colab\"/></a>"
      ]
    },
    {
      "cell_type": "code",
      "execution_count": 2,
      "metadata": {
        "colab": {
          "base_uri": "https://localhost:8080/"
        },
        "id": "wn8cRxgvIHUp",
        "outputId": "f1495d19-c8ce-4868-cf22-14913c93ec3b"
      },
      "outputs": [
        {
          "output_type": "stream",
          "name": "stdout",
          "text": [
            "введите число:\n",
            "50\n",
            "ваше число меньше\n",
            "60\n",
            "ваше число меньше\n",
            "80\n",
            "ваше число больше\n",
            "75\n",
            "ваше число больше\n",
            "72\n",
            "ваше число больше\n",
            "69\n",
            "ваше число больше\n",
            "63\n",
            "вы победили за 7 попыток\n"
          ]
        }
      ],
      "source": [
        "import random\n",
        "rn = random.randrange(1, 100)\n",
        "cnt = 1\n",
        "print(\"введите число:\")\n",
        "i = input()\n",
        "f = True\n",
        "while f == True:\n",
        "  if i.isdigit():\n",
        "    i = int(i)\n",
        "    if i > rn:\n",
        "      print(\"ваше число больше\")\n",
        "      i = input()\n",
        "      cnt +=1\n",
        "    elif i < rn:\n",
        "      print(\"ваше число меньше\")\n",
        "      i = input()\n",
        "      cnt +=1\n",
        "    elif i == rn:\n",
        "      print(f'вы победили за {cnt} попыток')\n",
        "      f = False\n",
        "  elif i.lower() == \"выход\":\n",
        "    print(\"конец игры\")\n",
        "    f = False\n",
        "  else:\n",
        "    print(\"вы ввели не число\")\n",
        "    i = input()\n",
        "\n"
      ]
    },
    {
      "cell_type": "code",
      "source": [],
      "metadata": {
        "id": "jepG_1WLTh4X"
      },
      "execution_count": null,
      "outputs": []
    }
  ]
}