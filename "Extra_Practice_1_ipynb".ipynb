{
  "nbformat": 4,
  "nbformat_minor": 0,
  "metadata": {
    "colab": {
      "provenance": [],
      "include_colab_link": true
    },
    "kernelspec": {
      "name": "python3",
      "display_name": "Python 3"
    },
    "language_info": {
      "name": "python"
    }
  },
  "cells": [
    {
      "cell_type": "markdown",
      "metadata": {
        "id": "view-in-github",
        "colab_type": "text"
      },
      "source": [
        "<a href=\"https://colab.research.google.com/github/Maxrgrz/University/blob/main/%22Extra_Practice_1_ipynb%22.ipynb\" target=\"_parent\"><img src=\"https://colab.research.google.com/assets/colab-badge.svg\" alt=\"Open In Colab\"/></a>"
      ]
    },
    {
      "cell_type": "code",
      "execution_count": null,
      "metadata": {
        "colab": {
          "base_uri": "https://localhost:8080/"
        },
        "id": "63B-xNEooWdq",
        "outputId": "d1c65fcb-ea4b-460b-ef8e-488d81badda4"
      },
      "outputs": [
        {
          "output_type": "stream",
          "name": "stdout",
          "text": [
            "3346\n",
            "6709\n"
          ]
        }
      ],
      "source": [
        "import random\n",
        "def random_roll():\n",
        "  doors = set([1, 2, 3])\n",
        "  possible_options = doors.copy()\n",
        "  auto = random.randint(1, 3)\n",
        "  a=0\n",
        "  primary_choice = random.randint(1, 3)\n",
        "  try:\n",
        "    possible_options.remove(auto)\n",
        "    possible_options.remove(primary_choice)\n",
        "  except:\n",
        "    pass\n",
        "\n",
        "\n",
        "\n",
        "  choice = random.randint(1,len(possible_options))\n",
        "  for i in range(choice):\n",
        "    reveal = possible_options.pop()\n",
        "  doors.remove(reveal)\n",
        "  doors.remove(primary_choice)\n",
        "  choice = doors.pop()\n",
        "  if auto == choice:\n",
        "    return 1\n",
        "  else:\n",
        "    return 0\n",
        "\n",
        "\n",
        "\n",
        "def not_changing():\n",
        "  doors = set([1, 2, 3])\n",
        "  possible_options = doors.copy()\n",
        "  auto = random.randint(1, 3)\n",
        "  a=0\n",
        "  primary_choice = random.randint(1, 3)\n",
        "  try:\n",
        "    possible_options.remove(auto)\n",
        "    possible_options.remove(primary_choice)\n",
        "  except:\n",
        "    pass\n",
        "\n",
        "\n",
        "\n",
        "  choice = random.randint(1,len(possible_options))\n",
        "  for i in range(choice):\n",
        "    reveal = possible_options.pop()\n",
        "  if auto == primary_choice:\n",
        "    return 1\n",
        "  else:\n",
        "    return 0\n",
        "a=0\n",
        "for i in range(10000):\n",
        "  a+=not_changing()\n",
        "\n",
        "print(a)\n",
        "a=0\n",
        "\n",
        "for i in range(10000):\n",
        "  a+=random_roll()\n",
        "\n",
        "print (a)\n"
      ]
    }
  ]
}